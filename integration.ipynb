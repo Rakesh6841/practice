{
 "cells": [
  {
   "cell_type": "code",
   "execution_count": 1,
   "metadata": {},
   "outputs": [],
   "source": [
    "import pickle\n",
    "import numpy as np\n",
    "import pandas as pd\n",
    "from sklearn.model_selection import train_test_split\n",
    "from sklearn.preprocessing import OneHotEncoder, MaxAbsScaler\n",
    "from sklearn.compose import ColumnTransformer\n",
    "\n",
    "\n",
    "def load_model():\n",
    "    with open(\"model.pkl\", \"rb\") as file:\n",
    "        data = pickle.load(file)\n",
    "    return data\n",
    "\n",
    "\n",
    "def load_transform():\n",
    "    with open(\"ct.pkl\", \"rb\") as file:\n",
    "        data = pickle.load(file)\n",
    "    return data\n",
    "\n",
    "\n",
    "model = load_model()\n",
    "\n",
    "ct = load_transform()"
   ]
  },
  {
   "cell_type": "code",
   "execution_count": 3,
   "metadata": {},
   "outputs": [
    {
     "name": "stdout",
     "output_type": "stream",
     "text": [
      "categorysports\n",
      "time12\n",
      "followers5000\n",
      "posts10\n"
     ]
    }
   ],
   "source": [
    "val1 = input(\"category\")\n",
    "val2 = int(input(\"time\"))\n",
    "val3 = int(input(\"followers\"))\n",
    "val4 = int(input(\"posts\"))"
   ]
  },
  {
   "cell_type": "code",
   "execution_count": 4,
   "metadata": {},
   "outputs": [
    {
     "name": "stdout",
     "output_type": "stream",
     "text": [
      "Predicted number of likes on the post : [1209.60195374]\n"
     ]
    }
   ],
   "source": [
    "category_encoded = ct.transform([[val1, val2, val3, val4]])\n",
    "predicted_likes = model.predict(category_encoded)\n",
    "print(\"Predicted number of likes on the post\", \":\", predicted_likes * 10)"
   ]
  }
 ],
 "metadata": {
  "kernelspec": {
   "display_name": "Python 3",
   "language": "python",
   "name": "python3"
  },
  "language_info": {
   "codemirror_mode": {
    "name": "ipython",
    "version": 3
   },
   "file_extension": ".py",
   "mimetype": "text/x-python",
   "name": "python",
   "nbconvert_exporter": "python",
   "pygments_lexer": "ipython3",
   "version": "3.9.0"
  }
 },
 "nbformat": 4,
 "nbformat_minor": 4
}
