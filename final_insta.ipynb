{
 "cells": [
  {
   "attachments": {},
   "cell_type": "markdown",
   "metadata": {},
   "source": [
    "# Import the required libraries"
   ]
  },
  {
   "cell_type": "code",
   "execution_count": 1,
   "metadata": {},
   "outputs": [],
   "source": [
    "import instaloader\n",
    "import pandas as pd\n",
    "from sklearn.model_selection import train_test_split\n",
    "from sklearn.preprocessing import OneHotEncoder, MaxAbsScaler\n",
    "from sklearn.linear_model import LinearRegression\n",
    "from sklearn.compose import ColumnTransformer\n",
    "from sklearn.metrics import mean_squared_error\n",
    "import matplotlib.pyplot as plt"
   ]
  },
  {
   "attachments": {},
   "cell_type": "markdown",
   "metadata": {},
   "source": [
    "# Define the Instagram account credentials"
   ]
  },
  {
   "cell_type": "code",
   "execution_count": 2,
   "metadata": {},
   "outputs": [],
   "source": [
    "username = \"david_holland123\"\n",
    "password = \"Unagi@69!\""
   ]
  },
  {
   "attachments": {},
   "cell_type": "markdown",
   "metadata": {},
   "source": [
    "# Create an instance of Instaloader class and login to the Instagram account"
   ]
  },
  {
   "cell_type": "code",
   "execution_count": 3,
   "metadata": {},
   "outputs": [
    {
     "name": "stdout",
     "output_type": "stream",
     "text": [
      "Session file does not exist yet - Logging in.\n",
      "Logging in to Instagram account...\n",
      "Please wait...\n",
      "This may take a while depending on the number of followers and followees.\n"
     ]
    },
    {
     "ename": "ConnectionException",
     "evalue": "Login: Checkpoint required. Point your browser to https://www.instagram.com/challenge/action/AXFFjLTS_r_Di4hTF8pw9dkYgeZtiLMFHel2XNDlHTimbslr2T_cAJw-TohcUQzhfalRTNA/AfwSfPKPnJQGBLG2KmpAluZyvSa19ynKTdWCbcdrM6L-oWszy0RxEkPm_p9N2_B2HvoU3Tt3KRu2Iw/ffc_wPhF92VhZd9jJe8QA73GCpXGcvir3TOuXFHmpnOWl4VWvNNF1G4IvQeJrb6W3dmH/ - follow the instructions, then retry.",
     "output_type": "error",
     "traceback": [
      "\u001b[1;31m---------------------------------------------------------------------------\u001b[0m",
      "\u001b[1;31mFileNotFoundError\u001b[0m                         Traceback (most recent call last)",
      "Cell \u001b[1;32mIn[3], line 3\u001b[0m\n\u001b[0;32m      2\u001b[0m \u001b[39mtry\u001b[39;00m:\n\u001b[1;32m----> 3\u001b[0m     L\u001b[39m.\u001b[39;49mload_session_from_file(username)\n\u001b[0;32m      4\u001b[0m     L\u001b[39m.\u001b[39mcontext\u001b[39m.\u001b[39mlog(\u001b[39m\"\u001b[39m\u001b[39mLogin successful.\u001b[39m\u001b[39m\"\u001b[39m)\n",
      "File \u001b[1;32mc:\\Users\\kundu\\AppData\\Local\\Programs\\Python\\Python311\\Lib\\site-packages\\instaloader\\instaloader.py:618\u001b[0m, in \u001b[0;36mInstaloader.load_session_from_file\u001b[1;34m(self, username, filename)\u001b[0m\n\u001b[0;32m    617\u001b[0m         filename \u001b[39m=\u001b[39m get_legacy_session_filename(username)\n\u001b[1;32m--> 618\u001b[0m \u001b[39mwith\u001b[39;00m \u001b[39mopen\u001b[39;49m(filename, \u001b[39m'\u001b[39;49m\u001b[39mrb\u001b[39;49m\u001b[39m'\u001b[39;49m) \u001b[39mas\u001b[39;00m sessionfile:\n\u001b[0;32m    619\u001b[0m     \u001b[39mself\u001b[39m\u001b[39m.\u001b[39mcontext\u001b[39m.\u001b[39mload_session_from_file(username, sessionfile)\n",
      "\u001b[1;31mFileNotFoundError\u001b[0m: [Errno 2] No such file or directory: 'c:\\\\users\\\\kundu\\\\appdata\\\\local\\\\temp/.instaloader-kundu/session-david_holland123'",
      "\nDuring handling of the above exception, another exception occurred:\n",
      "\u001b[1;31mConnectionException\u001b[0m                       Traceback (most recent call last)",
      "Cell \u001b[1;32mIn[3], line 12\u001b[0m\n\u001b[0;32m      8\u001b[0m L\u001b[39m.\u001b[39mcontext\u001b[39m.\u001b[39mlog(\u001b[39m\"\u001b[39m\u001b[39mPlease wait...\u001b[39m\u001b[39m\"\u001b[39m)\n\u001b[0;32m      9\u001b[0m L\u001b[39m.\u001b[39mcontext\u001b[39m.\u001b[39mlog(\n\u001b[0;32m     10\u001b[0m     \u001b[39m\"\u001b[39m\u001b[39mThis may take a while depending on the number of followers and followees.\u001b[39m\u001b[39m\"\u001b[39m\n\u001b[0;32m     11\u001b[0m )\n\u001b[1;32m---> 12\u001b[0m L\u001b[39m.\u001b[39;49minteractive_login(username)\n",
      "File \u001b[1;32mc:\\Users\\kundu\\AppData\\Local\\Programs\\Python\\Python311\\Lib\\site-packages\\instaloader\\instaloader.py:1572\u001b[0m, in \u001b[0;36mInstaloader.interactive_login\u001b[1;34m(self, username)\u001b[0m\n\u001b[0;32m   1570\u001b[0m password \u001b[39m=\u001b[39m getpass\u001b[39m.\u001b[39mgetpass(prompt\u001b[39m=\u001b[39m\u001b[39m\"\u001b[39m\u001b[39mEnter Instagram password for \u001b[39m\u001b[39m%s\u001b[39;00m\u001b[39m: \u001b[39m\u001b[39m\"\u001b[39m \u001b[39m%\u001b[39m username)\n\u001b[0;32m   1571\u001b[0m \u001b[39mtry\u001b[39;00m:\n\u001b[1;32m-> 1572\u001b[0m     \u001b[39mself\u001b[39;49m\u001b[39m.\u001b[39;49mlogin(username, password)\n\u001b[0;32m   1573\u001b[0m \u001b[39mexcept\u001b[39;00m BadCredentialsException \u001b[39mas\u001b[39;00m err:\n\u001b[0;32m   1574\u001b[0m     \u001b[39mprint\u001b[39m(err, file\u001b[39m=\u001b[39msys\u001b[39m.\u001b[39mstderr)\n",
      "File \u001b[1;32mc:\\Users\\kundu\\AppData\\Local\\Programs\\Python\\Python311\\Lib\\site-packages\\instaloader\\instaloader.py:634\u001b[0m, in \u001b[0;36mInstaloader.login\u001b[1;34m(self, user, passwd)\u001b[0m\n\u001b[0;32m    626\u001b[0m \u001b[39mdef\u001b[39;00m \u001b[39mlogin\u001b[39m(\u001b[39mself\u001b[39m, user: \u001b[39mstr\u001b[39m, passwd: \u001b[39mstr\u001b[39m) \u001b[39m-\u001b[39m\u001b[39m>\u001b[39m \u001b[39mNone\u001b[39;00m:\n\u001b[0;32m    627\u001b[0m \u001b[39m    \u001b[39m\u001b[39m\"\"\"Log in to instagram with given username and password and internally store session object.\u001b[39;00m\n\u001b[0;32m    628\u001b[0m \n\u001b[0;32m    629\u001b[0m \u001b[39m    :raises InvalidArgumentException: If the provided username does not exist.\u001b[39;00m\n\u001b[1;32m   (...)\u001b[0m\n\u001b[0;32m    632\u001b[0m \u001b[39m    :raises TwoFactorAuthRequiredException: First step of 2FA login done, now call\u001b[39;00m\n\u001b[0;32m    633\u001b[0m \u001b[39m       :meth:`Instaloader.two_factor_login`.\"\"\"\u001b[39;00m\n\u001b[1;32m--> 634\u001b[0m     \u001b[39mself\u001b[39;49m\u001b[39m.\u001b[39;49mcontext\u001b[39m.\u001b[39;49mlogin(user, passwd)\n",
      "File \u001b[1;32mc:\\Users\\kundu\\AppData\\Local\\Programs\\Python\\Python311\\Lib\\site-packages\\instaloader\\instaloadercontext.py:239\u001b[0m, in \u001b[0;36mInstaloaderContext.login\u001b[1;34m(self, user, passwd)\u001b[0m\n\u001b[0;32m    237\u001b[0m     \u001b[39mraise\u001b[39;00m TwoFactorAuthRequiredException(\u001b[39m\"\u001b[39m\u001b[39mLogin error: two-factor authentication required.\u001b[39m\u001b[39m\"\u001b[39m)\n\u001b[0;32m    238\u001b[0m \u001b[39mif\u001b[39;00m resp_json\u001b[39m.\u001b[39mget(\u001b[39m'\u001b[39m\u001b[39mcheckpoint_url\u001b[39m\u001b[39m'\u001b[39m):\n\u001b[1;32m--> 239\u001b[0m     \u001b[39mraise\u001b[39;00m ConnectionException(\u001b[39m\"\u001b[39m\u001b[39mLogin: Checkpoint required. Point your browser to \u001b[39m\u001b[39m\"\u001b[39m\n\u001b[0;32m    240\u001b[0m                               \u001b[39m\"\u001b[39m\u001b[39mhttps://www.instagram.com\u001b[39m\u001b[39m{}\u001b[39;00m\u001b[39m - \u001b[39m\u001b[39m\"\u001b[39m\n\u001b[0;32m    241\u001b[0m                               \u001b[39m\"\u001b[39m\u001b[39mfollow the instructions, then retry.\u001b[39m\u001b[39m\"\u001b[39m\u001b[39m.\u001b[39mformat(resp_json\u001b[39m.\u001b[39mget(\u001b[39m'\u001b[39m\u001b[39mcheckpoint_url\u001b[39m\u001b[39m'\u001b[39m)))\n\u001b[0;32m    242\u001b[0m \u001b[39mif\u001b[39;00m resp_json[\u001b[39m'\u001b[39m\u001b[39mstatus\u001b[39m\u001b[39m'\u001b[39m] \u001b[39m!=\u001b[39m \u001b[39m'\u001b[39m\u001b[39mok\u001b[39m\u001b[39m'\u001b[39m:\n\u001b[0;32m    243\u001b[0m     \u001b[39mif\u001b[39;00m \u001b[39m'\u001b[39m\u001b[39mmessage\u001b[39m\u001b[39m'\u001b[39m \u001b[39min\u001b[39;00m resp_json:\n",
      "\u001b[1;31mConnectionException\u001b[0m: Login: Checkpoint required. Point your browser to https://www.instagram.com/challenge/action/AXFFjLTS_r_Di4hTF8pw9dkYgeZtiLMFHel2XNDlHTimbslr2T_cAJw-TohcUQzhfalRTNA/AfwSfPKPnJQGBLG2KmpAluZyvSa19ynKTdWCbcdrM6L-oWszy0RxEkPm_p9N2_B2HvoU3Tt3KRu2Iw/ffc_wPhF92VhZd9jJe8QA73GCpXGcvir3TOuXFHmpnOWl4VWvNNF1G4IvQeJrb6W3dmH/ - follow the instructions, then retry."
     ]
    }
   ],
   "source": [
    "L = instaloader.Instaloader()\n",
    "try:\n",
    "    L.load_session_from_file(username)\n",
    "    L.context.log(\"Login successful.\")\n",
    "except FileNotFoundError:\n",
    "    L.context.log(\"Session file does not exist yet - Logging in.\")\n",
    "    L.context.log(\"Logging in to Instagram account...\")\n",
    "    L.context.log(\"Please wait...\")\n",
    "    L.context.log(\n",
    "        \"This may take a while depending on the number of followers and followees.\"\n",
    "    )\n",
    "    L.interactive_login(username)"
   ]
  },
  {
   "attachments": {},
   "cell_type": "markdown",
   "metadata": {},
   "source": [
    "# Scraping the data from Instagram"
   ]
  },
  {
   "cell_type": "code",
   "execution_count": null,
   "metadata": {},
   "outputs": [],
   "source": [
    "# Define the list of accounts to scrape\n",
    "accounts = [\n",
    "    {\"category\": \"food\", \"username\": \"f_delhite\"},\n",
    "    {\"category\": \"food\", \"username\": \"thecoachmarlow\"},\n",
    "    {\"category\": \"food\", \"username\": \"londonbylora\"},\n",
    "    {\"category\": \"food\", \"username\": \"non_veg_lovers\"},\n",
    "    {\"category\": \"food\", \"username\": \"lekhas_feast\"},\n",
    "    {\"category\": \"photography\", \"username\": \"natural_photography123_\"},\n",
    "    {\"category\": \"photography\", \"username\": \"phot.ographyislife1\"},\n",
    "    {\"category\": \"photography\", \"username\": \"mimimandira_clicks\"},\n",
    "    {\"category\": \"photography\", \"username\": \"ija_photography\"},\n",
    "    {\"category\": \"photography\", \"username\": \"colours.of.india\"},\n",
    "    {\"category\": \"dance\", \"username\": \"dance_n_addiction\"},\n",
    "    {\"category\": \"dance\", \"username\": \"ishpreet_dang\"},\n",
    "    {\"category\": \"dance\", \"username\": \"manoletyet\"},\n",
    "    {\"category\": \"dance\", \"username\": \"yashpandyachoreography\"},\n",
    "    {\"category\": \"dance\", \"username\": \"sneadesai\"},\n",
    "    {\"category\": \"sports\", \"username\": \"stn.daily\"},\n",
    "    {\"category\": \"sports\", \"username\": \"judo.olymp_\"},\n",
    "    {\"category\": \"sports\", \"username\": \"thesizeup\"},\n",
    "    {\"category\": \"sports\", \"username\": \"ball__star\"},\n",
    "    {\"category\": \"sports\", \"username\": \"thebsblr\"},\n",
    "]\n",
    "\n",
    "# Initialize an empty list to store the scraped data\n",
    "all_data = []\n",
    "\n",
    "# Loop through each account in the list\n",
    "for account in accounts:\n",
    "    # Get the profile of the Instagram account\n",
    "    profile = instaloader.Profile.from_username(L.context, account[\"username\"])\n",
    "\n",
    "    # Get the number of followers of the account\n",
    "    num_followers = profile.followers\n",
    "\n",
    "    # Get the number of posts of the account\n",
    "    num_posts = profile.mediacount\n",
    "\n",
    "    # Get the last 10 posts of the account and store the data in a list of dictionaries\n",
    "    posts = profile.get_posts()\n",
    "    posts_data = []\n",
    "    for post in posts:\n",
    "        if len(posts_data) >= 10:\n",
    "            break\n",
    "        else:\n",
    "            post_data = {\n",
    "                \"Category\": account[\"category\"],\n",
    "                \"Username\": account[\"username\"],\n",
    "                \"Time of Posting\": post.date.hour,\n",
    "                \"Number of Followers\": num_followers,\n",
    "                \"Number of Posts\": num_posts,\n",
    "                \"Likes\": post.likes,\n",
    "            }\n",
    "            posts_data.append(post_data)\n",
    "\n",
    "    # Add the post data to the list of all data\n",
    "    all_data.extend(posts_data)\n",
    "\n",
    "# Convert the list of data into a pandas DataFrame\n",
    "df = pd.DataFrame(all_data)\n",
    "\n",
    "# Print the DataFrame\n",
    "print(df)"
   ]
  },
  {
   "attachments": {},
   "cell_type": "markdown",
   "metadata": {},
   "source": [
    "# Describing the data"
   ]
  },
  {
   "cell_type": "code",
   "execution_count": null,
   "metadata": {},
   "outputs": [],
   "source": [
    "df.describe()"
   ]
  },
  {
   "attachments": {},
   "cell_type": "markdown",
   "metadata": {},
   "source": [
    "# Visulaization of data"
   ]
  },
  {
   "cell_type": "code",
   "execution_count": null,
   "metadata": {},
   "outputs": [],
   "source": [
    "# Create a scatter plot of likes vs. time posted\n",
    "plt.scatter(df[\"Time of Posting\"], df[\"Likes\"])\n",
    "plt.xlabel(\"Time Posted\")\n",
    "plt.ylabel(\"Likes\")\n",
    "plt.show()"
   ]
  },
  {
   "cell_type": "code",
   "execution_count": null,
   "metadata": {},
   "outputs": [],
   "source": [
    "# Create a scatter plot of likes vs. number of followers\n",
    "plt.scatter(df[\"Number of Followers\"], df[\"Likes\"])\n",
    "plt.xlabel(\"Number of Followers\")\n",
    "plt.ylabel(\"Likes\")\n",
    "plt.show()"
   ]
  },
  {
   "attachments": {},
   "cell_type": "markdown",
   "metadata": {},
   "source": [
    "# Data Pre-Processing"
   ]
  },
  {
   "cell_type": "code",
   "execution_count": null,
   "metadata": {},
   "outputs": [],
   "source": [
    "# Define the features and target variable\n",
    "X = df[[\"Category\", \"Time of Posting\", \"Number of Followers\", \"Number of Posts\"]]\n",
    "y = df[\"Likes\"]\n",
    "\n",
    "# Normalize the target\n",
    "maxvalue = max(y)\n",
    "y = y / maxvalue\n",
    "\n",
    "# Define the column transformer to encode the categorical feature\n",
    "ct = ColumnTransformer([(\"encoder\", OneHotEncoder(), [0, 1])], remainder=\"passthrough\")\n",
    "\n",
    "# Fit and transform the column transformer on the feature data\n",
    "X = ct.fit_transform(X)\n",
    "\n",
    "# Define the scaler to normalize the feature data\n",
    "scaler = MaxAbsScaler()\n",
    "\n",
    "# Fit and transform the scaler on the feature data\n",
    "X = scaler.fit_transform(X)\n",
    "\n",
    "# Split the data into training set and test set\n",
    "X_train, X_test, y_train, y_test = train_test_split(X, y, test_size=0.2, random_state=2)"
   ]
  },
  {
   "attachments": {},
   "cell_type": "markdown",
   "metadata": {},
   "source": [
    "# Training the ML Regression Model"
   ]
  },
  {
   "cell_type": "code",
   "execution_count": null,
   "metadata": {},
   "outputs": [],
   "source": [
    "# Create an instance of the LinearRegression class\n",
    "model = LinearRegression()\n",
    "\n",
    "# Train the model using the training data\n",
    "model.fit(X_train, y_train)\n",
    "\n",
    "# Make predictions on the test data\n",
    "y_pred = model.predict(X_test)\n",
    "\n",
    "# Calculate the root mean squared error\n",
    "rmse = mean_squared_error(y_test, y_pred, squared=False)\n",
    "\n",
    "print(\"Root Mean Squared Error:\", rmse)"
   ]
  },
  {
   "attachments": {},
   "cell_type": "markdown",
   "metadata": {},
   "source": [
    "# Prediction of Values"
   ]
  },
  {
   "cell_type": "code",
   "execution_count": null,
   "metadata": {},
   "outputs": [],
   "source": [
    "category_encoded = ct.transform([[\"sports\", 12, 5000, 10]])\n",
    "predicted_likes = model.predict(category_encoded)\n",
    "print(\"Predicted number of likes on the post\", \":\", predicted_likes * 10)"
   ]
  },
  {
   "cell_type": "code",
   "execution_count": null,
   "metadata": {},
   "outputs": [],
   "source": [
    "import pickle\n",
    "\n",
    "pickle.dump(model, open(\"model.pkl\", \"wb\"))"
   ]
  }
 ],
 "metadata": {
  "kernelspec": {
   "display_name": "Python 3",
   "language": "python",
   "name": "python3"
  },
  "language_info": {
   "codemirror_mode": {
    "name": "ipython",
    "version": 3
   },
   "file_extension": ".py",
   "mimetype": "text/x-python",
   "name": "python",
   "nbconvert_exporter": "python",
   "pygments_lexer": "ipython3",
   "version": "3.11.3"
  }
 },
 "nbformat": 4,
 "nbformat_minor": 4
}
